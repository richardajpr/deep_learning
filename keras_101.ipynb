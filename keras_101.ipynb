{
  "nbformat": 4,
  "nbformat_minor": 0,
  "metadata": {
    "colab": {
      "name": "keras_101.ipynb",
      "provenance": [],
      "collapsed_sections": [],
      "authorship_tag": "ABX9TyP7rbYawagoEc/2cDg5Lv1C",
      "include_colab_link": true
    },
    "kernelspec": {
      "name": "python3",
      "display_name": "Python 3"
    },
    "accelerator": "GPU"
  },
  "cells": [
    {
      "cell_type": "markdown",
      "metadata": {
        "id": "view-in-github",
        "colab_type": "text"
      },
      "source": [
        "<a href=\"https://colab.research.google.com/github/richardajpr/deep_learning/blob/master/keras_101.ipynb\" target=\"_parent\"><img src=\"https://colab.research.google.com/assets/colab-badge.svg\" alt=\"Open In Colab\"/></a>"
      ]
    },
    {
      "cell_type": "code",
      "metadata": {
        "id": "b71M87VyZxVh",
        "colab_type": "code",
        "colab": {
          "base_uri": "https://localhost:8080/",
          "height": 62
        },
        "outputId": "22e2f9db-1221-47e3-a5eb-642b6c06d452"
      },
      "source": [
        "import tensorflow as tf\n",
        "from tensorflow.keras.models import Sequential\n",
        "from tensorflow.keras.layers import Flatten, Dense, Dropout\n",
        "from tensorflow.keras.datasets import mnist"
      ],
      "execution_count": 1,
      "outputs": [
        {
          "output_type": "display_data",
          "data": {
            "text/html": [
              "<p style=\"color: red;\">\n",
              "The default version of TensorFlow in Colab will soon switch to TensorFlow 2.x.<br>\n",
              "We recommend you <a href=\"https://www.tensorflow.org/guide/migrate\" target=\"_blank\">upgrade</a> now \n",
              "or ensure your notebook will continue to use TensorFlow 1.x via the <code>%tensorflow_version 1.x</code> magic:\n",
              "<a href=\"https://colab.research.google.com/notebooks/tensorflow_version.ipynb\" target=\"_blank\">more info</a>.</p>\n"
            ],
            "text/plain": [
              "<IPython.core.display.HTML object>"
            ]
          },
          "metadata": {
            "tags": []
          }
        }
      ]
    },
    {
      "cell_type": "code",
      "metadata": {
        "id": "-ThfhPA7aRaP",
        "colab_type": "code",
        "colab": {}
      },
      "source": [
        "import matplotlib.pyplot as plt"
      ],
      "execution_count": 0,
      "outputs": []
    },
    {
      "cell_type": "code",
      "metadata": {
        "id": "T9i1VzbSafdG",
        "colab_type": "code",
        "colab": {}
      },
      "source": [
        "(X_train, y_train), (X_test, y_test) = mnist.load_data()"
      ],
      "execution_count": 0,
      "outputs": []
    },
    {
      "cell_type": "code",
      "metadata": {
        "id": "C-fQO6aSam1b",
        "colab_type": "code",
        "colab": {}
      },
      "source": [
        "X_train = X_train/255.0\n",
        "X_test = X_test/255.0"
      ],
      "execution_count": 0,
      "outputs": []
    },
    {
      "cell_type": "code",
      "metadata": {
        "id": "1K5U2dAMeCYp",
        "colab_type": "code",
        "colab": {}
      },
      "source": [
        "from sklearn.model_selection import train_test_split"
      ],
      "execution_count": 0,
      "outputs": []
    },
    {
      "cell_type": "code",
      "metadata": {
        "id": "oxj6CoBMeMti",
        "colab_type": "code",
        "colab": {}
      },
      "source": [
        "X_train, X_val, y_train, y_val = train_test_split(X_train, y_train, test_size = 0.25, random_state = 12)"
      ],
      "execution_count": 0,
      "outputs": []
    },
    {
      "cell_type": "code",
      "metadata": {
        "id": "L-s67Dugarxk",
        "colab_type": "code",
        "colab": {
          "base_uri": "https://localhost:8080/",
          "height": 87
        },
        "outputId": "46322d08-78e2-4e39-f74a-a1324b692975"
      },
      "source": [
        "model = Sequential()\n",
        "model.add(Flatten(input_shape = (28,28)))\n",
        "model.add(Dense(128, activation = 'relu'))\n",
        "model.add(Dropout(0.2))\n",
        "model.add(Dense(10, activation='sigmoid'))\n",
        "\n",
        "model.compile(loss = 'sparse_categorical_crossentropy', optimizer = 'adam', metrics = ['accuracy'])"
      ],
      "execution_count": 7,
      "outputs": [
        {
          "output_type": "stream",
          "text": [
            "WARNING:tensorflow:From /usr/local/lib/python3.6/dist-packages/tensorflow_core/python/ops/resource_variable_ops.py:1630: calling BaseResourceVariable.__init__ (from tensorflow.python.ops.resource_variable_ops) with constraint is deprecated and will be removed in a future version.\n",
            "Instructions for updating:\n",
            "If using Keras pass *_constraint arguments to layers.\n"
          ],
          "name": "stdout"
        }
      ]
    },
    {
      "cell_type": "code",
      "metadata": {
        "id": "zEkCG9cIbQpL",
        "colab_type": "code",
        "colab": {
          "base_uri": "https://localhost:8080/",
          "height": 440
        },
        "outputId": "dea3fbcf-797c-4d3b-f842-a52e5547a4c9"
      },
      "source": [
        "history = model.fit(X_train, y_train,\n",
        "                    epochs = 10,\n",
        "                    validation_data=(X_val, y_val)\n",
        "                    )"
      ],
      "execution_count": 8,
      "outputs": [
        {
          "output_type": "stream",
          "text": [
            "WARNING:tensorflow:From /usr/local/lib/python3.6/dist-packages/tensorflow_core/python/ops/math_grad.py:1424: where (from tensorflow.python.ops.array_ops) is deprecated and will be removed in a future version.\n",
            "Instructions for updating:\n",
            "Use tf.where in 2.0, which has the same broadcast rule as np.where\n",
            "Train on 45000 samples, validate on 15000 samples\n",
            "Epoch 1/10\n",
            "45000/45000 [==============================] - 4s 93us/sample - loss: 0.3703 - acc: 0.8944 - val_loss: 0.1770 - val_acc: 0.9469\n",
            "Epoch 2/10\n",
            "45000/45000 [==============================] - 4s 86us/sample - loss: 0.1731 - acc: 0.9493 - val_loss: 0.1198 - val_acc: 0.9639\n",
            "Epoch 3/10\n",
            "45000/45000 [==============================] - 4s 85us/sample - loss: 0.1294 - acc: 0.9622 - val_loss: 0.1039 - val_acc: 0.9693\n",
            "Epoch 4/10\n",
            "45000/45000 [==============================] - 4s 86us/sample - loss: 0.1050 - acc: 0.9686 - val_loss: 0.0927 - val_acc: 0.9715\n",
            "Epoch 5/10\n",
            "45000/45000 [==============================] - 4s 84us/sample - loss: 0.0896 - acc: 0.9730 - val_loss: 0.0921 - val_acc: 0.9720\n",
            "Epoch 6/10\n",
            "45000/45000 [==============================] - 4s 83us/sample - loss: 0.0767 - acc: 0.9762 - val_loss: 0.0795 - val_acc: 0.9764\n",
            "Epoch 7/10\n",
            "45000/45000 [==============================] - 4s 84us/sample - loss: 0.0685 - acc: 0.9783 - val_loss: 0.0765 - val_acc: 0.9773\n",
            "Epoch 8/10\n",
            "45000/45000 [==============================] - 4s 85us/sample - loss: 0.0592 - acc: 0.9811 - val_loss: 0.0779 - val_acc: 0.9773\n",
            "Epoch 9/10\n",
            "45000/45000 [==============================] - 4s 84us/sample - loss: 0.0553 - acc: 0.9829 - val_loss: 0.0789 - val_acc: 0.9774\n",
            "Epoch 10/10\n",
            "45000/45000 [==============================] - 4s 84us/sample - loss: 0.0514 - acc: 0.9834 - val_loss: 0.0764 - val_acc: 0.9775\n"
          ],
          "name": "stdout"
        }
      ]
    },
    {
      "cell_type": "code",
      "metadata": {
        "id": "MFJKyPZ4bzFe",
        "colab_type": "code",
        "colab": {
          "base_uri": "https://localhost:8080/",
          "height": 50
        },
        "outputId": "375ad656-3ec5-49e3-87d6-fc4acf647fe6"
      },
      "source": [
        "tr_loss, tr_accuracy = model.evaluate(X_train, y_train, verbose=False)\n",
        "print(f\"Training Accuracy: {tr_accuracy*100: 2.4f}%\")\n",
        "te_loss, te_accuracy = model.evaluate(X_test, y_test, verbose=False)\n",
        "print(f\"Testing Accuracy:  {te_accuracy*100: 2.4f}%\")"
      ],
      "execution_count": 9,
      "outputs": [
        {
          "output_type": "stream",
          "text": [
            "Training Accuracy:  99.4489%\n",
            "Testing Accuracy:   97.8300%\n"
          ],
          "name": "stdout"
        }
      ]
    },
    {
      "cell_type": "code",
      "metadata": {
        "id": "LCvyPd4bcnl5",
        "colab_type": "code",
        "colab": {}
      },
      "source": [
        "tr_acc = history.history['acc']\n",
        "val_acc = history.history['val_acc']\n",
        "tr_loss = history.history['loss']\n",
        "val_loss = history.history['val_loss']\n",
        "x = range(1, len(tr_acc) + 1)"
      ],
      "execution_count": 0,
      "outputs": []
    },
    {
      "cell_type": "code",
      "metadata": {
        "id": "XfXMADZ9fEeR",
        "colab_type": "code",
        "colab": {
          "base_uri": "https://localhost:8080/",
          "height": 298
        },
        "outputId": "93e86477-8df6-4d33-b782-f6ade9971962"
      },
      "source": [
        "  plt.plot(x, tr_acc, 'b', label='Training acc')\n",
        "  plt.plot(x, val_acc, 'r', label='Validation acc')\n",
        "  plt.title('Training and validation accuracy')\n",
        "  plt.legend()"
      ],
      "execution_count": 11,
      "outputs": [
        {
          "output_type": "execute_result",
          "data": {
            "text/plain": [
              "<matplotlib.legend.Legend at 0x7fa4004035f8>"
            ]
          },
          "metadata": {
            "tags": []
          },
          "execution_count": 11
        },
        {
          "output_type": "display_data",
          "data": {
            "image/png": "[encoded data removed]",
            "text/plain": [
              "<Figure size 432x288 with 1 Axes>"
            ]
          },
          "metadata": {
            "tags": []
          }
        }
      ]
    },
    {
      "cell_type": "code",
      "metadata": {
        "id": "MEycSzzJdUpC",
        "colab_type": "code",
        "colab": {
          "base_uri": "https://localhost:8080/",
          "height": 298
        },
        "outputId": "413426e1-50e2-4891-c9f2-ee2be1c7c77b"
      },
      "source": [
        "  plt.subplot(1, 2, 2)\n",
        "  plt.plot(x, tr_loss, 'b', label='Training loss')\n",
        "  plt.plot(x, val_loss, 'r', label='Validation loss')\n",
        "  plt.title('Training and validation loss')\n",
        "  plt.legend()"
      ],
      "execution_count": 12,
      "outputs": [
        {
          "output_type": "execute_result",
          "data": {
            "text/plain": [
              "<matplotlib.legend.Legend at 0x7fa400184710>"
            ]
          },
          "metadata": {
            "tags": []
          },
          "execution_count": 12
        },
        {
          "output_type": "display_data",
          "data": {
            "image/png": "[encoded data removed]",
            "text/plain": [
              "<Figure size 432x288 with 1 Axes>"
            ]
          },
          "metadata": {
            "tags": []
          }
        }
      ]
    },
    {
      "cell_type": "code",
      "metadata": {
        "id": "SEvY3BotdV-h",
        "colab_type": "code",
        "colab": {}
      },
      "source": [
        ""
      ],
      "execution_count": 0,
      "outputs": []
    }
  ]
}